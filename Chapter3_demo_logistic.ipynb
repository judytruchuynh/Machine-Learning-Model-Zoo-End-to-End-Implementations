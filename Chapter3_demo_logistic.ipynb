{
 "cells": [
  {
   "cell_type": "markdown",
   "metadata": {},
   "source": [
    "# Chapter 3: Demo Logistic Regression - Buy car?\n",
    "- Xây dựng model dự đoán một khách hàng có mua xe hay không dựa trên thông tin về ‘Age’ và ‘EstimatedSalary_K’ (mức lương ước tính – đơn vị tính 1000$)"
   ]
  },
  {
   "cell_type": "code",
   "execution_count": 103,
   "metadata": {},
   "outputs": [],
   "source": [
    "import numpy as np \n",
    "import pandas as pd \n",
    "import matplotlib.pyplot as plt "
   ]
  },
  {
   "cell_type": "code",
   "execution_count": 104,
   "metadata": {},
   "outputs": [],
   "source": [
    "# Dataset: https://www.kaggle.com/rakeshrau/social-network-ads"
   ]
  },
  {
   "cell_type": "code",
   "execution_count": 105,
   "metadata": {},
   "outputs": [],
   "source": [
    "data = pd.read_csv(\"Data/Social_Network_Ads.csv\", \n",
    "                   usecols=['Age', 'EstimatedSalary_K', 'Purchased'])"
   ]
  },
  {
   "cell_type": "code",
   "execution_count": 106,
   "metadata": {},
   "outputs": [
    {
     "name": "stdout",
     "output_type": "stream",
     "text": [
      "<class 'pandas.core.frame.DataFrame'>\n",
      "RangeIndex: 400 entries, 0 to 399\n",
      "Data columns (total 3 columns):\n",
      " #   Column             Non-Null Count  Dtype\n",
      "---  ------             --------------  -----\n",
      " 0   Age                400 non-null    int64\n",
      " 1   EstimatedSalary_K  400 non-null    int64\n",
      " 2   Purchased          400 non-null    int64\n",
      "dtypes: int64(3)\n",
      "memory usage: 9.5 KB\n"
     ]
    }
   ],
   "source": [
    "data.info()"
   ]
  },
  {
   "cell_type": "code",
   "execution_count": 107,
   "metadata": {},
   "outputs": [
    {
     "data": {
      "text/html": [
       "<div>\n",
       "<style scoped>\n",
       "    .dataframe tbody tr th:only-of-type {\n",
       "        vertical-align: middle;\n",
       "    }\n",
       "\n",
       "    .dataframe tbody tr th {\n",
       "        vertical-align: top;\n",
       "    }\n",
       "\n",
       "    .dataframe thead th {\n",
       "        text-align: right;\n",
       "    }\n",
       "</style>\n",
       "<table border=\"1\" class=\"dataframe\">\n",
       "  <thead>\n",
       "    <tr style=\"text-align: right;\">\n",
       "      <th></th>\n",
       "      <th>Age</th>\n",
       "      <th>EstimatedSalary_K</th>\n",
       "      <th>Purchased</th>\n",
       "    </tr>\n",
       "  </thead>\n",
       "  <tbody>\n",
       "    <tr>\n",
       "      <th>0</th>\n",
       "      <td>19</td>\n",
       "      <td>19</td>\n",
       "      <td>0</td>\n",
       "    </tr>\n",
       "    <tr>\n",
       "      <th>1</th>\n",
       "      <td>35</td>\n",
       "      <td>20</td>\n",
       "      <td>0</td>\n",
       "    </tr>\n",
       "    <tr>\n",
       "      <th>2</th>\n",
       "      <td>26</td>\n",
       "      <td>43</td>\n",
       "      <td>0</td>\n",
       "    </tr>\n",
       "    <tr>\n",
       "      <th>3</th>\n",
       "      <td>27</td>\n",
       "      <td>57</td>\n",
       "      <td>0</td>\n",
       "    </tr>\n",
       "    <tr>\n",
       "      <th>4</th>\n",
       "      <td>19</td>\n",
       "      <td>76</td>\n",
       "      <td>0</td>\n",
       "    </tr>\n",
       "  </tbody>\n",
       "</table>\n",
       "</div>"
      ],
      "text/plain": [
       "   Age  EstimatedSalary_K  Purchased\n",
       "0   19                 19          0\n",
       "1   35                 20          0\n",
       "2   26                 43          0\n",
       "3   27                 57          0\n",
       "4   19                 76          0"
      ]
     },
     "execution_count": 107,
     "metadata": {},
     "output_type": "execute_result"
    }
   ],
   "source": [
    "data.head()"
   ]
  },
  {
   "cell_type": "code",
   "execution_count": 108,
   "metadata": {},
   "outputs": [
    {
     "data": {
      "text/html": [
       "<div>\n",
       "<style scoped>\n",
       "    .dataframe tbody tr th:only-of-type {\n",
       "        vertical-align: middle;\n",
       "    }\n",
       "\n",
       "    .dataframe tbody tr th {\n",
       "        vertical-align: top;\n",
       "    }\n",
       "\n",
       "    .dataframe thead th {\n",
       "        text-align: right;\n",
       "    }\n",
       "</style>\n",
       "<table border=\"1\" class=\"dataframe\">\n",
       "  <thead>\n",
       "    <tr style=\"text-align: right;\">\n",
       "      <th></th>\n",
       "      <th>Age</th>\n",
       "      <th>EstimatedSalary_K</th>\n",
       "      <th>Purchased</th>\n",
       "    </tr>\n",
       "  </thead>\n",
       "  <tbody>\n",
       "    <tr>\n",
       "      <th>count</th>\n",
       "      <td>400.000000</td>\n",
       "      <td>400.00000</td>\n",
       "      <td>400.000000</td>\n",
       "    </tr>\n",
       "    <tr>\n",
       "      <th>mean</th>\n",
       "      <td>37.655000</td>\n",
       "      <td>69.74250</td>\n",
       "      <td>0.357500</td>\n",
       "    </tr>\n",
       "    <tr>\n",
       "      <th>std</th>\n",
       "      <td>10.482877</td>\n",
       "      <td>34.09696</td>\n",
       "      <td>0.479864</td>\n",
       "    </tr>\n",
       "    <tr>\n",
       "      <th>min</th>\n",
       "      <td>18.000000</td>\n",
       "      <td>15.00000</td>\n",
       "      <td>0.000000</td>\n",
       "    </tr>\n",
       "    <tr>\n",
       "      <th>25%</th>\n",
       "      <td>29.750000</td>\n",
       "      <td>43.00000</td>\n",
       "      <td>0.000000</td>\n",
       "    </tr>\n",
       "    <tr>\n",
       "      <th>50%</th>\n",
       "      <td>37.000000</td>\n",
       "      <td>70.00000</td>\n",
       "      <td>0.000000</td>\n",
       "    </tr>\n",
       "    <tr>\n",
       "      <th>75%</th>\n",
       "      <td>46.000000</td>\n",
       "      <td>88.00000</td>\n",
       "      <td>1.000000</td>\n",
       "    </tr>\n",
       "    <tr>\n",
       "      <th>max</th>\n",
       "      <td>60.000000</td>\n",
       "      <td>150.00000</td>\n",
       "      <td>1.000000</td>\n",
       "    </tr>\n",
       "  </tbody>\n",
       "</table>\n",
       "</div>"
      ],
      "text/plain": [
       "              Age  EstimatedSalary_K   Purchased\n",
       "count  400.000000          400.00000  400.000000\n",
       "mean    37.655000           69.74250    0.357500\n",
       "std     10.482877           34.09696    0.479864\n",
       "min     18.000000           15.00000    0.000000\n",
       "25%     29.750000           43.00000    0.000000\n",
       "50%     37.000000           70.00000    0.000000\n",
       "75%     46.000000           88.00000    1.000000\n",
       "max     60.000000          150.00000    1.000000"
      ]
     },
     "execution_count": 108,
     "metadata": {},
     "output_type": "execute_result"
    }
   ],
   "source": [
    "data.describe()"
   ]
  },
  {
   "cell_type": "code",
   "execution_count": 109,
   "metadata": {},
   "outputs": [
    {
     "data": {
      "text/html": [
       "<div>\n",
       "<style scoped>\n",
       "    .dataframe tbody tr th:only-of-type {\n",
       "        vertical-align: middle;\n",
       "    }\n",
       "\n",
       "    .dataframe tbody tr th {\n",
       "        vertical-align: top;\n",
       "    }\n",
       "\n",
       "    .dataframe thead th {\n",
       "        text-align: right;\n",
       "    }\n",
       "</style>\n",
       "<table border=\"1\" class=\"dataframe\">\n",
       "  <thead>\n",
       "    <tr style=\"text-align: right;\">\n",
       "      <th></th>\n",
       "      <th>Age</th>\n",
       "      <th>EstimatedSalary_K</th>\n",
       "    </tr>\n",
       "    <tr>\n",
       "      <th>Purchased</th>\n",
       "      <th></th>\n",
       "      <th></th>\n",
       "    </tr>\n",
       "  </thead>\n",
       "  <tbody>\n",
       "    <tr>\n",
       "      <th>0</th>\n",
       "      <td>257</td>\n",
       "      <td>257</td>\n",
       "    </tr>\n",
       "    <tr>\n",
       "      <th>1</th>\n",
       "      <td>143</td>\n",
       "      <td>143</td>\n",
       "    </tr>\n",
       "  </tbody>\n",
       "</table>\n",
       "</div>"
      ],
      "text/plain": [
       "           Age  EstimatedSalary_K\n",
       "Purchased                        \n",
       "0          257                257\n",
       "1          143                143"
      ]
     },
     "execution_count": 109,
     "metadata": {},
     "output_type": "execute_result"
    }
   ],
   "source": [
    "data.groupby('Purchased').count()# để xem dl có cân bằn ko"
   ]
  },
  {
   "cell_type": "code",
   "execution_count": 110,
   "metadata": {},
   "outputs": [
    {
     "data": {
      "text/html": [
       "<div>\n",
       "<style scoped>\n",
       "    .dataframe tbody tr th:only-of-type {\n",
       "        vertical-align: middle;\n",
       "    }\n",
       "\n",
       "    .dataframe tbody tr th {\n",
       "        vertical-align: top;\n",
       "    }\n",
       "\n",
       "    .dataframe thead th {\n",
       "        text-align: right;\n",
       "    }\n",
       "</style>\n",
       "<table border=\"1\" class=\"dataframe\">\n",
       "  <thead>\n",
       "    <tr style=\"text-align: right;\">\n",
       "      <th></th>\n",
       "      <th>Age</th>\n",
       "      <th>EstimatedSalary_K</th>\n",
       "    </tr>\n",
       "  </thead>\n",
       "  <tbody>\n",
       "    <tr>\n",
       "      <th>0</th>\n",
       "      <td>19</td>\n",
       "      <td>19</td>\n",
       "    </tr>\n",
       "    <tr>\n",
       "      <th>1</th>\n",
       "      <td>35</td>\n",
       "      <td>20</td>\n",
       "    </tr>\n",
       "    <tr>\n",
       "      <th>2</th>\n",
       "      <td>26</td>\n",
       "      <td>43</td>\n",
       "    </tr>\n",
       "    <tr>\n",
       "      <th>3</th>\n",
       "      <td>27</td>\n",
       "      <td>57</td>\n",
       "    </tr>\n",
       "    <tr>\n",
       "      <th>4</th>\n",
       "      <td>19</td>\n",
       "      <td>76</td>\n",
       "    </tr>\n",
       "  </tbody>\n",
       "</table>\n",
       "</div>"
      ],
      "text/plain": [
       "   Age  EstimatedSalary_K\n",
       "0   19                 19\n",
       "1   35                 20\n",
       "2   26                 43\n",
       "3   27                 57\n",
       "4   19                 76"
      ]
     },
     "execution_count": 110,
     "metadata": {},
     "output_type": "execute_result"
    }
   ],
   "source": [
    "X = data[['Age', 'EstimatedSalary_K']]\n",
    "X.head()"
   ]
  },
  {
   "cell_type": "code",
   "execution_count": 111,
   "metadata": {},
   "outputs": [
    {
     "data": {
      "text/plain": [
       "0    0\n",
       "1    0\n",
       "2    0\n",
       "3    0\n",
       "4    0\n",
       "Name: Purchased, dtype: int64"
      ]
     },
     "execution_count": 111,
     "metadata": {},
     "output_type": "execute_result"
    }
   ],
   "source": [
    "Y = data['Purchased']\n",
    "Y.head()"
   ]
  },
  {
   "cell_type": "code",
   "execution_count": 112,
   "metadata": {},
   "outputs": [],
   "source": [
    "from sklearn.model_selection import train_test_split   "
   ]
  },
  {
   "cell_type": "code",
   "execution_count": 113,
   "metadata": {},
   "outputs": [],
   "source": [
    "X_train,X_test,Y_train,Y_test = train_test_split(X,Y,test_size=0.3)"
   ]
  },
  {
   "cell_type": "code",
   "execution_count": 114,
   "metadata": {},
   "outputs": [],
   "source": [
    "from sklearn.linear_model import LogisticRegression"
   ]
  },
  {
   "cell_type": "code",
   "execution_count": 115,
   "metadata": {},
   "outputs": [],
   "source": [
    "clf = LogisticRegression()"
   ]
  },
  {
   "cell_type": "code",
   "execution_count": 116,
   "metadata": {},
   "outputs": [
    {
     "data": {
      "text/plain": [
       "LogisticRegression()"
      ]
     },
     "execution_count": 116,
     "metadata": {},
     "output_type": "execute_result"
    }
   ],
   "source": [
    "clf.fit(X_train, Y_train)"
   ]
  },
  {
   "cell_type": "code",
   "execution_count": 117,
   "metadata": {},
   "outputs": [],
   "source": [
    "# Tính toán xác suất của lớp cho tập dữ liệu thử nghiệm \n",
    "# bằng cách sử dụng hàm ‘predict_proba’.\n",
    "# clf.predict_proba(X_test)"
   ]
  },
  {
   "cell_type": "code",
   "execution_count": 118,
   "metadata": {},
   "outputs": [
    {
     "name": "stdout",
     "output_type": "stream",
     "text": [
      "Train score:  0.8392857142857143\n"
     ]
    }
   ],
   "source": [
    "print('Train score: ', clf.score(X_train,Y_train))"
   ]
  },
  {
   "cell_type": "code",
   "execution_count": 119,
   "metadata": {},
   "outputs": [
    {
     "name": "stdout",
     "output_type": "stream",
     "text": [
      "Test score:  0.8416666666666667\n"
     ]
    }
   ],
   "source": [
    "print('Test score: ', clf.score(X_test,Y_test))"
   ]
  },
  {
   "cell_type": "code",
   "execution_count": 120,
   "metadata": {},
   "outputs": [
    {
     "data": {
      "text/plain": [
       "array([[5.58214127e-01, 4.41785873e-01],\n",
       "       [4.11736287e-01, 5.88263713e-01],\n",
       "       [3.25704853e-01, 6.74295147e-01],\n",
       "       [6.15555017e-01, 3.84444983e-01],\n",
       "       [9.92755777e-01, 7.24422303e-03],\n",
       "       [9.93010032e-01, 6.98996759e-03],\n",
       "       [9.97968972e-01, 2.03102755e-03],\n",
       "       [2.55685127e-01, 7.44314873e-01],\n",
       "       [9.01909515e-01, 9.80904854e-02],\n",
       "       [5.46410250e-01, 4.53589750e-01],\n",
       "       [9.24180937e-01, 7.58190629e-02],\n",
       "       [9.85878656e-01, 1.41213437e-02],\n",
       "       [5.96503522e-01, 4.03496478e-01],\n",
       "       [9.99428999e-01, 5.71000533e-04],\n",
       "       [8.35165695e-01, 1.64834305e-01],\n",
       "       [9.92502070e-01, 7.49793020e-03],\n",
       "       [8.18018514e-01, 1.81981486e-01],\n",
       "       [5.22111183e-02, 9.47788882e-01],\n",
       "       [9.91799665e-01, 8.20033494e-03],\n",
       "       [6.89220950e-01, 3.10779050e-01],\n",
       "       [7.79862879e-01, 2.20137121e-01],\n",
       "       [3.58244520e-02, 9.64175548e-01],\n",
       "       [9.95669424e-01, 4.33057590e-03],\n",
       "       [9.63930045e-01, 3.60699550e-02],\n",
       "       [1.50925161e-02, 9.84907484e-01],\n",
       "       [1.32580139e-01, 8.67419861e-01],\n",
       "       [9.97071158e-01, 2.92884221e-03],\n",
       "       [9.08963342e-01, 9.10366584e-02],\n",
       "       [1.41394652e-01, 8.58605348e-01],\n",
       "       [1.98518481e-01, 8.01481519e-01],\n",
       "       [6.81177630e-01, 3.18822370e-01],\n",
       "       [6.98528702e-01, 3.01471298e-01],\n",
       "       [9.92148498e-01, 7.85150232e-03],\n",
       "       [7.22862373e-01, 2.77137627e-01],\n",
       "       [2.10001403e-01, 7.89998597e-01],\n",
       "       [8.04811558e-01, 1.95188442e-01],\n",
       "       [1.62005043e-02, 9.83799496e-01],\n",
       "       [9.70410481e-01, 2.95895189e-02],\n",
       "       [8.61143177e-01, 1.38856823e-01],\n",
       "       [8.74524548e-03, 9.91254755e-01],\n",
       "       [9.85349980e-01, 1.46500200e-02],\n",
       "       [1.39103244e-01, 8.60896756e-01],\n",
       "       [9.94738783e-01, 5.26121712e-03],\n",
       "       [9.24180937e-01, 7.58190629e-02],\n",
       "       [9.97624527e-01, 2.37547333e-03],\n",
       "       [9.94011803e-01, 5.98819706e-03],\n",
       "       [9.67868764e-01, 3.21312363e-02],\n",
       "       [4.21434073e-01, 5.78565927e-01],\n",
       "       [3.34819474e-01, 6.65180526e-01],\n",
       "       [5.65827113e-02, 9.43417289e-01],\n",
       "       [5.69952588e-01, 4.30047412e-01],\n",
       "       [1.43990530e-02, 9.85600947e-01],\n",
       "       [2.13095959e-02, 9.78690404e-01],\n",
       "       [7.51975017e-01, 2.48024983e-01],\n",
       "       [5.43555072e-02, 9.45644493e-01],\n",
       "       [5.76518771e-01, 4.23481229e-01],\n",
       "       [7.93685594e-01, 2.06314406e-01],\n",
       "       [6.62433555e-01, 3.37566445e-01],\n",
       "       [5.68351055e-01, 4.31648945e-01],\n",
       "       [9.31657295e-01, 6.83427046e-02],\n",
       "       [5.11210970e-01, 4.88789030e-01],\n",
       "       [9.69125909e-01, 3.08740910e-02],\n",
       "       [5.48351972e-01, 4.51648028e-01],\n",
       "       [9.83475253e-01, 1.65247472e-02],\n",
       "       [7.17863121e-01, 2.82136879e-01],\n",
       "       [6.95770884e-01, 3.04229116e-01],\n",
       "       [7.93685594e-01, 2.06314406e-01],\n",
       "       [4.08452060e-03, 9.95915479e-01],\n",
       "       [4.42293771e-01, 5.57706229e-01],\n",
       "       [4.10155318e-01, 5.89844682e-01],\n",
       "       [9.31574079e-01, 6.84259206e-02],\n",
       "       [1.00558915e-01, 8.99441085e-01],\n",
       "       [9.75507472e-01, 2.44925282e-02],\n",
       "       [7.78063663e-01, 2.21936337e-01],\n",
       "       [8.51487716e-01, 1.48512284e-01],\n",
       "       [5.48351972e-01, 4.51648028e-01],\n",
       "       [2.02612587e-01, 7.97387413e-01],\n",
       "       [9.94027333e-01, 5.97266707e-03],\n",
       "       [9.76682160e-01, 2.33178399e-02],\n",
       "       [9.81807286e-04, 9.99018193e-01],\n",
       "       [9.41073842e-01, 5.89261583e-02],\n",
       "       [1.13828237e-02, 9.88617176e-01],\n",
       "       [9.81436686e-01, 1.85633141e-02],\n",
       "       [5.19718785e-03, 9.94802812e-01],\n",
       "       [9.93801810e-01, 6.19819033e-03],\n",
       "       [8.06855321e-01, 1.93144679e-01],\n",
       "       [9.78293920e-01, 2.17060804e-02],\n",
       "       [6.70721167e-01, 3.29278833e-01],\n",
       "       [8.18018514e-01, 1.81981486e-01],\n",
       "       [7.72017704e-01, 2.27982296e-01],\n",
       "       [7.13197430e-01, 2.86802570e-01],\n",
       "       [8.39514838e-03, 9.91604852e-01],\n",
       "       [6.72737384e-01, 3.27262616e-01],\n",
       "       [8.35165695e-01, 1.64834305e-01],\n",
       "       [5.20849979e-01, 4.79150021e-01],\n",
       "       [9.49764518e-01, 5.02354820e-02],\n",
       "       [1.42987864e-01, 8.57012136e-01],\n",
       "       [9.82858162e-01, 1.71418378e-02],\n",
       "       [7.20501123e-01, 2.79498877e-01],\n",
       "       [8.98560650e-01, 1.01439350e-01],\n",
       "       [9.39046402e-01, 6.09535976e-02],\n",
       "       [7.36286291e-01, 2.63713709e-01],\n",
       "       [4.19842443e-01, 5.80157557e-01],\n",
       "       [9.89684766e-01, 1.03152337e-02],\n",
       "       [7.37299541e-01, 2.62700459e-01],\n",
       "       [9.94890704e-01, 5.10929629e-03],\n",
       "       [8.29598759e-01, 1.70401241e-01],\n",
       "       [9.94311578e-01, 5.68842194e-03],\n",
       "       [9.61293912e-01, 3.87060883e-02],\n",
       "       [1.28946890e-02, 9.87105311e-01],\n",
       "       [9.31823446e-01, 6.81765537e-02],\n",
       "       [2.54196471e-01, 7.45803529e-01],\n",
       "       [6.20182697e-02, 9.37981730e-01],\n",
       "       [9.94035083e-01, 5.96491709e-03],\n",
       "       [9.31657295e-01, 6.83427046e-02],\n",
       "       [8.73266959e-01, 1.26733041e-01],\n",
       "       [9.97093956e-01, 2.90604423e-03],\n",
       "       [9.53380382e-01, 4.66196181e-02],\n",
       "       [9.05718673e-01, 9.42813271e-02],\n",
       "       [8.51157055e-01, 1.48842945e-01]])"
      ]
     },
     "execution_count": 120,
     "metadata": {},
     "output_type": "execute_result"
    }
   ],
   "source": [
    "from sklearn.metrics import accuracy_score \n",
    "Yhat_test = clf.predict(X_test)\n",
    "clf.predict_proba(X_test)\n",
    "#print(\"Test Accuracy is \", accuracy_score(Y_test,Yhat_test)*100,\"%\") cách 2 tinh R^2\n",
    "# 0-1"
   ]
  },
  {
   "cell_type": "code",
   "execution_count": 121,
   "metadata": {},
   "outputs": [
    {
     "data": {
      "text/plain": [
       "array([0, 1, 1, 0, 0, 0, 0, 1, 0, 0, 0, 0, 0, 0, 0, 0, 0, 1, 0, 0, 0, 1,\n",
       "       0, 0, 1, 1, 0, 0, 1, 1, 0, 0, 0, 0, 1, 0, 1, 0, 0, 1, 0, 1, 0, 0,\n",
       "       0, 0, 0, 1, 1, 1, 0, 1, 1, 0, 1, 0, 0, 0, 0, 0, 0, 0, 0, 0, 0, 0,\n",
       "       0, 1, 1, 1, 0, 1, 0, 0, 0, 0, 1, 0, 0, 1, 0, 1, 0, 1, 0, 0, 0, 0,\n",
       "       0, 0, 0, 1, 0, 0, 0, 0, 1, 0, 0, 0, 0, 0, 1, 0, 0, 0, 0, 0, 0, 1,\n",
       "       0, 1, 1, 0, 0, 0, 0, 0, 0, 0], dtype=int64)"
      ]
     },
     "execution_count": 121,
     "metadata": {},
     "output_type": "execute_result"
    }
   ],
   "source": [
    "Yhat_test"
   ]
  },
  {
   "cell_type": "code",
   "execution_count": 122,
   "metadata": {},
   "outputs": [
    {
     "ename": "NameError",
     "evalue": "name 'confusion_matrix' is not defined",
     "output_type": "error",
     "traceback": [
      "\u001b[1;31m---------------------------------------------------------------------------\u001b[0m",
      "\u001b[1;31mNameError\u001b[0m                                 Traceback (most recent call last)",
      "\u001b[1;32m<ipython-input-122-79f7d8a22e79>\u001b[0m in \u001b[0;36m<module>\u001b[1;34m\u001b[0m\n\u001b[1;32m----> 1\u001b[1;33m \u001b[0mcm\u001b[0m \u001b[1;33m=\u001b[0m \u001b[0mconfusion_matrix\u001b[0m\u001b[1;33m(\u001b[0m\u001b[0mY_test\u001b[0m\u001b[1;33m,\u001b[0m \u001b[0mYhat_test\u001b[0m\u001b[1;33m)\u001b[0m\u001b[1;33m\u001b[0m\u001b[1;33m\u001b[0m\u001b[0m\n\u001b[0m\u001b[0;32m      2\u001b[0m \u001b[0mcm\u001b[0m\u001b[1;33m\u001b[0m\u001b[1;33m\u001b[0m\u001b[0m\n",
      "\u001b[1;31mNameError\u001b[0m: name 'confusion_matrix' is not defined"
     ]
    }
   ],
   "source": [
    "cm = confusion_matrix(Y_test, Yhat_test)\n",
    "cm"
   ]
  },
  {
   "cell_type": "code",
   "execution_count": 123,
   "metadata": {},
   "outputs": [],
   "source": [
    "Yhat_train = clf.predict(X_train)"
   ]
  },
  {
   "cell_type": "code",
   "execution_count": 124,
   "metadata": {},
   "outputs": [
    {
     "data": {
      "text/plain": [
       "array([-12.82965299])"
      ]
     },
     "execution_count": 124,
     "metadata": {},
     "output_type": "execute_result"
    }
   ],
   "source": [
    "clf.intercept_"
   ]
  },
  {
   "cell_type": "code",
   "execution_count": 125,
   "metadata": {},
   "outputs": [
    {
     "data": {
      "text/plain": [
       "array([[0.23811253, 0.03990312]])"
      ]
     },
     "execution_count": 125,
     "metadata": {},
     "output_type": "execute_result"
    }
   ],
   "source": [
    "clf.coef_"
   ]
  },
  {
   "cell_type": "code",
   "execution_count": 126,
   "metadata": {},
   "outputs": [],
   "source": [
    "\n",
    "#tuong ung voi intercept, "
   ]
  },
  {
   "cell_type": "markdown",
   "metadata": {},
   "source": [
    "### Trực quan hóa 1"
   ]
  },
  {
   "cell_type": "code",
   "execution_count": 127,
   "metadata": {},
   "outputs": [],
   "source": [
    "import seaborn as sns"
   ]
  },
  {
   "cell_type": "code",
   "execution_count": 128,
   "metadata": {},
   "outputs": [
    {
     "data": {
      "text/plain": [
       "<matplotlib.collections.PathCollection at 0x23b3158d6d0>"
      ]
     },
     "execution_count": 128,
     "metadata": {},
     "output_type": "execute_result"
    },
    {
     "data": {
      "image/png": "[encoded data removed]",
      "text/plain": [
       "<Figure size 432x288 with 1 Axes>"
      ]
     },
     "metadata": {
      "needs_background": "light"
     },
     "output_type": "display_data"
    }
   ],
   "source": [
    "plt.scatter(X.Age , X.EstimatedSalary_K, c= Y) # c là color tuonưg tự như hue của seaborn"
   ]
  },
  {
   "cell_type": "code",
   "execution_count": 129,
   "metadata": {},
   "outputs": [
    {
     "data": {
      "text/plain": [
       "<matplotlib.collections.PathCollection at 0x23b31841370>"
      ]
     },
     "execution_count": 129,
     "metadata": {},
     "output_type": "execute_result"
    },
    {
     "data": {
      "image/png": "[encoded data removed]",
      "text/plain": [
       "<Figure size 432x288 with 1 Axes>"
      ]
     },
     "metadata": {
      "needs_background": "light"
     },
     "output_type": "display_data"
    }
   ],
   "source": [
    "plt.scatter(X.Age , X.EstimatedSalary_K, c= clf.predict(X))"
   ]
  },
  {
   "cell_type": "code",
   "execution_count": 130,
   "metadata": {},
   "outputs": [
    {
     "data": {
      "image/png": "[encoded data removed]",
      "text/plain": [
       "<Figure size 432x288 with 1 Axes>"
      ]
     },
     "metadata": {
      "needs_background": "light"
     },
     "output_type": "display_data"
    }
   ],
   "source": [
    "plt.scatter(X_test.Age , X_test.EstimatedSalary_K, \n",
    "            c=Y_test)\n",
    "plt.title('Real Y_test')\n",
    "plt.show()"
   ]
  },
  {
   "cell_type": "code",
   "execution_count": 131,
   "metadata": {},
   "outputs": [
    {
     "data": {
      "image/png": "[encoded data removed]",
      "text/plain": [
       "<Figure size 432x288 with 1 Axes>"
      ]
     },
     "metadata": {
      "needs_background": "light"
     },
     "output_type": "display_data"
    }
   ],
   "source": [
    "plt.scatter(X_test.Age , X_test.EstimatedSalary_K, \n",
    "            c=Yhat_test)\n",
    "plt.title('Predict Y_test')\n",
    "plt.show()"
   ]
  },
  {
   "cell_type": "markdown",
   "metadata": {},
   "source": [
    "### Trực quan hóa 2"
   ]
  },
  {
   "cell_type": "code",
   "execution_count": 132,
   "metadata": {},
   "outputs": [],
   "source": [
    "from matplotlib.colors import ListedColormap"
   ]
  },
  {
   "cell_type": "code",
   "execution_count": 133,
   "metadata": {},
   "outputs": [],
   "source": [
    "X_set, Y_set = X_test, Y_test"
   ]
  },
  {
   "cell_type": "code",
   "execution_count": 134,
   "metadata": {},
   "outputs": [
    {
     "data": {
      "text/html": [
       "<div>\n",
       "<style scoped>\n",
       "    .dataframe tbody tr th:only-of-type {\n",
       "        vertical-align: middle;\n",
       "    }\n",
       "\n",
       "    .dataframe tbody tr th {\n",
       "        vertical-align: top;\n",
       "    }\n",
       "\n",
       "    .dataframe thead th {\n",
       "        text-align: right;\n",
       "    }\n",
       "</style>\n",
       "<table border=\"1\" class=\"dataframe\">\n",
       "  <thead>\n",
       "    <tr style=\"text-align: right;\">\n",
       "      <th></th>\n",
       "      <th>Age</th>\n",
       "      <th>EstimatedSalary_K</th>\n",
       "    </tr>\n",
       "  </thead>\n",
       "  <tbody>\n",
       "    <tr>\n",
       "      <th>203</th>\n",
       "      <td>41</td>\n",
       "      <td>71</td>\n",
       "    </tr>\n",
       "    <tr>\n",
       "      <th>362</th>\n",
       "      <td>47</td>\n",
       "      <td>50</td>\n",
       "    </tr>\n",
       "    <tr>\n",
       "      <th>350</th>\n",
       "      <td>38</td>\n",
       "      <td>113</td>\n",
       "    </tr>\n",
       "    <tr>\n",
       "      <th>348</th>\n",
       "      <td>39</td>\n",
       "      <td>77</td>\n",
       "    </tr>\n",
       "    <tr>\n",
       "      <th>86</th>\n",
       "      <td>24</td>\n",
       "      <td>55</td>\n",
       "    </tr>\n",
       "  </tbody>\n",
       "</table>\n",
       "</div>"
      ],
      "text/plain": [
       "     Age  EstimatedSalary_K\n",
       "203   41                 71\n",
       "362   47                 50\n",
       "350   38                113\n",
       "348   39                 77\n",
       "86    24                 55"
      ]
     },
     "execution_count": 134,
     "metadata": {},
     "output_type": "execute_result"
    }
   ],
   "source": [
    "X_set.head()"
   ]
  },
  {
   "cell_type": "code",
   "execution_count": 135,
   "metadata": {},
   "outputs": [
    {
     "data": {
      "text/plain": [
       "array([0, 1], dtype=int64)"
      ]
     },
     "execution_count": 135,
     "metadata": {},
     "output_type": "execute_result"
    }
   ],
   "source": [
    "np.unique(Y_set)"
   ]
  },
  {
   "cell_type": "code",
   "execution_count": 136,
   "metadata": {},
   "outputs": [
    {
     "data": {
      "image/png": "[encoded data removed]",
      "text/plain": [
       "<Figure size 432x288 with 1 Axes>"
      ]
     },
     "metadata": {
      "needs_background": "light"
     },
     "output_type": "display_data"
    }
   ],
   "source": [
    "# so sánh giữa real test (điểm dữ liệu) và prediction test (phần xanh/đỏ)\n",
    "from matplotlib.colors import ListedColormap\n",
    "X_set, Y_set = X_test, Y_test\n",
    "X1, X2 = np.meshgrid(np.arange(start = X_set.Age.min()-1,stop=X_set.Age.max()+1,step=0.01), \n",
    "                    np.arange(start = X_set.EstimatedSalary_K.min()-1,stop=X_set.EstimatedSalary_K.max()+1,\n",
    "                              step=0.01))\n",
    "plt.contourf(X1,X2, clf.predict(np.array([X1.ravel(), X2.ravel()]).T).reshape(X1.shape),\n",
    "             alpha=0.75, cmap=ListedColormap(('red','green')))\n",
    "# plt.xlim(X1.min(), X1.max())\n",
    "# plt.ylim(X2.min(), X2.max())\n",
    "# plt.scatter(X_set.Age, X_set.EstimatedSalary_K, c=Y_set, cmap=ListedColormap(('red','green')))\n",
    "# plt.xlabel('Age')\n",
    "# plt.ylabel('EstimatedSalary_K')\n",
    "# plt.title('Real test data points in Prediction areas')\n",
    "plt.show()"
   ]
  },
  {
   "cell_type": "markdown",
   "metadata": {},
   "source": [
    "### Trực quan hóa 3"
   ]
  },
  {
   "cell_type": "code",
   "execution_count": null,
   "metadata": {},
   "outputs": [],
   "source": [
    "X_now = [[40,120]]\n",
    "Y_now = clf.predict(X_now)\n",
    "Y_now"
   ]
  }
 ],
 "metadata": {
  "kernelspec": {
   "display_name": "Python 3.9.2 64-bit",
   "language": "python",
   "name": "python3"
  },
  "language_info": {
   "codemirror_mode": {
    "name": "ipython",
    "version": 3
   },
   "file_extension": ".py",
   "mimetype": "text/x-python",
   "name": "python",
   "nbconvert_exporter": "python",
   "pygments_lexer": "ipython3",
   "version": "3.9.2"
  },
  "vscode": {
   "interpreter": {
    "hash": "0917cd8301acd1531e6697be57246730a0c8dcaae7b959dd47d6e5894c4c2091"
   }
  }
 },
 "nbformat": 4,
 "nbformat_minor": 2
}
