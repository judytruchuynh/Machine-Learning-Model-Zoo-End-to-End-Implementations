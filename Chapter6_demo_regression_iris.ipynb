{
 "cells": [
  {
   "cell_type": "markdown",
   "metadata": {
    "colab_type": "text",
    "id": "CMVNPtd5sm_Z"
   },
   "source": [
    "# Chapter 6: DecisionTreeRegressor"
   ]
  },
  {
   "cell_type": "code",
   "execution_count": null,
   "metadata": {
    "colab": {
     "base_uri": "https://localhost:8080/",
     "height": 122
    },
    "colab_type": "code",
    "executionInfo": {
     "elapsed": 27245,
     "status": "ok",
     "timestamp": 1573606008903,
     "user": {
      "displayName": "Phuong Khuat Thuy",
      "photoUrl": "",
      "userId": "16807426118474640783"
     },
     "user_tz": -420
    },
    "id": "ZZFADqFhspp3",
    "outputId": "9f794451-29be-4757-9ff6-e17611754acb"
   },
   "outputs": [],
   "source": [
    "# from google.colab import drive\n",
    "# drive.mount(\"/content/gdrive\", force_remount=True)\n",
    "# %cd '/content/gdrive/My Drive/LDS6_MachineLearning/practice/Chapter6_Decision_Tree/'"
   ]
  },
  {
   "cell_type": "code",
   "execution_count": 1,
   "metadata": {
    "colab": {},
    "colab_type": "code",
    "id": "IMF-qqfQsm_c"
   },
   "outputs": [],
   "source": [
    "import numpy as np\n",
    "import pandas as pd\n",
    "import matplotlib.pyplot as plt\n"
   ]
  },
  {
   "cell_type": "code",
   "execution_count": 4,
   "metadata": {
    "colab": {
     "base_uri": "https://localhost:8080/",
     "height": 187
    },
    "colab_type": "code",
    "executionInfo": {
     "elapsed": 30261,
     "status": "ok",
     "timestamp": 1573606011929,
     "user": {
      "displayName": "Phuong Khuat Thuy",
      "photoUrl": "",
      "userId": "16807426118474640783"
     },
     "user_tz": -420
    },
    "id": "fB9lhGiIsm_j",
    "outputId": "4f1cafdf-c573-4dac-b256-ce913865bea8"
   },
   "outputs": [
    {
     "data": {
      "text/html": [
       "<div>\n",
       "<style scoped>\n",
       "    .dataframe tbody tr th:only-of-type {\n",
       "        vertical-align: middle;\n",
       "    }\n",
       "\n",
       "    .dataframe tbody tr th {\n",
       "        vertical-align: top;\n",
       "    }\n",
       "\n",
       "    .dataframe thead th {\n",
       "        text-align: right;\n",
       "    }\n",
       "</style>\n",
       "<table border=\"1\" class=\"dataframe\">\n",
       "  <thead>\n",
       "    <tr style=\"text-align: right;\">\n",
       "      <th></th>\n",
       "      <th>sepallength</th>\n",
       "      <th>sepalwidth</th>\n",
       "      <th>petallength</th>\n",
       "      <th>petalwidth</th>\n",
       "      <th>iris</th>\n",
       "    </tr>\n",
       "  </thead>\n",
       "  <tbody>\n",
       "    <tr>\n",
       "      <th>0</th>\n",
       "      <td>5.1</td>\n",
       "      <td>3.5</td>\n",
       "      <td>1.4</td>\n",
       "      <td>0.2</td>\n",
       "      <td>Iris-setosa</td>\n",
       "    </tr>\n",
       "    <tr>\n",
       "      <th>1</th>\n",
       "      <td>4.9</td>\n",
       "      <td>3.0</td>\n",
       "      <td>1.4</td>\n",
       "      <td>0.2</td>\n",
       "      <td>Iris-setosa</td>\n",
       "    </tr>\n",
       "    <tr>\n",
       "      <th>2</th>\n",
       "      <td>4.7</td>\n",
       "      <td>3.2</td>\n",
       "      <td>1.3</td>\n",
       "      <td>0.2</td>\n",
       "      <td>Iris-setosa</td>\n",
       "    </tr>\n",
       "    <tr>\n",
       "      <th>3</th>\n",
       "      <td>4.6</td>\n",
       "      <td>3.1</td>\n",
       "      <td>1.5</td>\n",
       "      <td>0.2</td>\n",
       "      <td>Iris-setosa</td>\n",
       "    </tr>\n",
       "    <tr>\n",
       "      <th>4</th>\n",
       "      <td>5.0</td>\n",
       "      <td>3.6</td>\n",
       "      <td>1.4</td>\n",
       "      <td>0.2</td>\n",
       "      <td>Iris-setosa</td>\n",
       "    </tr>\n",
       "  </tbody>\n",
       "</table>\n",
       "</div>"
      ],
      "text/plain": [
       "   sepallength  sepalwidth  petallength  petalwidth         iris\n",
       "0          5.1         3.5          1.4         0.2  Iris-setosa\n",
       "1          4.9         3.0          1.4         0.2  Iris-setosa\n",
       "2          4.7         3.2          1.3         0.2  Iris-setosa\n",
       "3          4.6         3.1          1.5         0.2  Iris-setosa\n",
       "4          5.0         3.6          1.4         0.2  Iris-setosa"
      ]
     },
     "execution_count": 4,
     "metadata": {},
     "output_type": "execute_result"
    }
   ],
   "source": [
    "iris = pd.read_excel(\"Iris.xls\")\n",
    "iris.head()"
   ]
  },
  {
   "cell_type": "code",
   "execution_count": 5,
   "metadata": {
    "colab": {},
    "colab_type": "code",
    "id": "v357zD94sm_t"
   },
   "outputs": [],
   "source": [
    "petalwidth = iris[['petalwidth']] # input\n",
    "pentallength = iris['petallength'] # output"
   ]
  },
  {
   "cell_type": "code",
   "execution_count": 6,
   "metadata": {
    "colab": {
     "base_uri": "https://localhost:8080/",
     "height": 265
    },
    "colab_type": "code",
    "executionInfo": {
     "elapsed": 30249,
     "status": "ok",
     "timestamp": 1573606011931,
     "user": {
      "displayName": "Phuong Khuat Thuy",
      "photoUrl": "",
      "userId": "16807426118474640783"
     },
     "user_tz": -420
    },
    "id": "J9RXh-3Esm_w",
    "outputId": "9d0a1ad3-712c-4047-8b98-768cf98b72c2"
   },
   "outputs": [
    {
     "data": {
      "image/png": "[encoded data removed]",
      "text/plain": [
       "<Figure size 432x288 with 1 Axes>"
      ]
     },
     "metadata": {
      "needs_background": "light"
     },
     "output_type": "display_data"
    }
   ],
   "source": [
    "plt.scatter(petalwidth, pentallength)\n",
    "plt.show()"
   ]
  },
  {
   "cell_type": "code",
   "execution_count": 7,
   "metadata": {
    "colab": {},
    "colab_type": "code",
    "id": "MGb9_stBsm_z"
   },
   "outputs": [],
   "source": [
    "from sklearn.model_selection import train_test_split  \n",
    "X_train, X_test, y_train, y_test = train_test_split(petalwidth, \n",
    "                                                    pentallength, \n",
    "                                                    test_size=0.20, \n",
    "                                                    random_state = 42)"
   ]
  },
  {
   "cell_type": "code",
   "execution_count": 8,
   "metadata": {
    "colab": {},
    "colab_type": "code",
    "id": "x5nDHujTsm_1"
   },
   "outputs": [],
   "source": [
    "from sklearn.tree import DecisionTreeRegressor"
   ]
  },
  {
   "cell_type": "code",
   "execution_count": 9,
   "metadata": {
    "colab": {},
    "colab_type": "code",
    "id": "ENnY77lPsm_4"
   },
   "outputs": [],
   "source": [
    "# Create decision tree regressor object\n",
    "dtr = DecisionTreeRegressor()\n",
    "# Train model\n",
    "model = dtr.fit(X_train, y_train)"
   ]
  },
  {
   "cell_type": "code",
   "execution_count": 10,
   "metadata": {
    "colab": {
     "base_uri": "https://localhost:8080/",
     "height": 119
    },
    "colab_type": "code",
    "executionInfo": {
     "elapsed": 30639,
     "status": "ok",
     "timestamp": 1573606012333,
     "user": {
      "displayName": "Phuong Khuat Thuy",
      "photoUrl": "",
      "userId": "16807426118474640783"
     },
     "user_tz": -420
    },
    "id": "ZN3wvowpsm_6",
    "outputId": "b60eb1f8-52de-45c4-e556-e9eed3391a78"
   },
   "outputs": [
    {
     "data": {
      "text/plain": [
       "array([4.2       , 1.35      , 5.625     , 4.69      , 4.61428571,\n",
       "       1.58      , 4.2       , 5.625     , 4.69      , 4.2       ,\n",
       "       5.45      , 1.4       , 1.436     , 1.4       , 1.35      ,\n",
       "       5.13333333, 6.7       , 3.4       , 4.2       , 6.7       ,\n",
       "       1.436     , 5.33      , 1.58      , 5.82      , 5.45      ,\n",
       "       5.625     , 5.33      , 5.625     , 1.35      , 1.436     ])"
      ]
     },
     "execution_count": 10,
     "metadata": {},
     "output_type": "execute_result"
    }
   ],
   "source": [
    "y_pred = model.predict(X_test)\n",
    "y_pred"
   ]
  },
  {
   "cell_type": "code",
   "execution_count": 11,
   "metadata": {
    "colab": {
     "base_uri": "https://localhost:8080/",
     "height": 34
    },
    "colab_type": "code",
    "executionInfo": {
     "elapsed": 986,
     "status": "ok",
     "timestamp": 1573606085036,
     "user": {
      "displayName": "Phuong Khuat Thuy",
      "photoUrl": "",
      "userId": "16807426118474640783"
     },
     "user_tz": -420
    },
    "id": "0blVIk2mOoNl",
    "outputId": "8d9e70bc-eafd-448b-b238-22734e180fec"
   },
   "outputs": [
    {
     "name": "stdout",
     "output_type": "stream",
     "text": [
      "The Train R^2 score is:  0.964853727798769\n"
     ]
    }
   ],
   "source": [
    "# Train's Score\n",
    "print(\"The Train R^2 score is: \", model.score(X_train,y_train))"
   ]
  },
  {
   "cell_type": "code",
   "execution_count": 12,
   "metadata": {
    "colab": {
     "base_uri": "https://localhost:8080/",
     "height": 34
    },
    "colab_type": "code",
    "executionInfo": {
     "elapsed": 30634,
     "status": "ok",
     "timestamp": 1573606012333,
     "user": {
      "displayName": "Phuong Khuat Thuy",
      "photoUrl": "",
      "userId": "16807426118474640783"
     },
     "user_tz": -420
    },
    "id": "LDJi9JNZsm_8",
    "outputId": "7cd39962-3bf0-4599-9621-96c70fb36fe1"
   },
   "outputs": [
    {
     "name": "stdout",
     "output_type": "stream",
     "text": [
      "The Test R^2 score is:  0.9264886792633416\n"
     ]
    }
   ],
   "source": [
    "# Test's Score\n",
    "print(\"The Test R^2 score is: \", model.score(X_test,y_test))"
   ]
  },
  {
   "cell_type": "code",
   "execution_count": null,
   "metadata": {
    "colab": {},
    "colab_type": "code",
    "id": "ZlJ22vG3O3jj"
   },
   "outputs": [],
   "source": [
    "# Both training and testing have high R^2 scores => OK"
   ]
  },
  {
   "cell_type": "code",
   "execution_count": null,
   "metadata": {
    "colab": {
     "base_uri": "https://localhost:8080/",
     "height": 34
    },
    "colab_type": "code",
    "executionInfo": {
     "elapsed": 1227,
     "status": "ok",
     "timestamp": 1573606312503,
     "user": {
      "displayName": "Phuong Khuat Thuy",
      "photoUrl": "",
      "userId": "16807426118474640783"
     },
     "user_tz": -420
    },
    "id": "S551CKGVPVMb",
    "outputId": "0c04c625-61bb-425d-b541-972cabe9108c"
   },
   "outputs": [],
   "source": [
    "from sklearn import metrics\n",
    "print('Mean Squared Error:', metrics.mean_squared_error(y_test, y_pred))"
   ]
  },
  {
   "cell_type": "code",
   "execution_count": null,
   "metadata": {
    "colab": {},
    "colab_type": "code",
    "id": "PeLmOAA8PsUv"
   },
   "outputs": [],
   "source": [
    "# MSE is low."
   ]
  },
  {
   "cell_type": "code",
   "execution_count": null,
   "metadata": {
    "colab": {
     "base_uri": "https://localhost:8080/",
     "height": 204
    },
    "colab_type": "code",
    "executionInfo": {
     "elapsed": 30627,
     "status": "ok",
     "timestamp": 1573606012333,
     "user": {
      "displayName": "Phuong Khuat Thuy",
      "photoUrl": "",
      "userId": "16807426118474640783"
     },
     "user_tz": -420
    },
    "id": "Q-JfFjuEsm__",
    "outputId": "510963fc-9b92-4c08-bcc6-5726ffc8b222"
   },
   "outputs": [],
   "source": [
    "df = pd.DataFrame({'Actual': pd.DataFrame(y_test.values)[0].values, \n",
    "                   'Prediction': pd.DataFrame(y_pred)[0].values})  \n",
    "df.head()"
   ]
  },
  {
   "cell_type": "code",
   "execution_count": null,
   "metadata": {
    "colab": {
     "base_uri": "https://localhost:8080/",
     "height": 34
    },
    "colab_type": "code",
    "executionInfo": {
     "elapsed": 30623,
     "status": "ok",
     "timestamp": 1573606012334,
     "user": {
      "displayName": "Phuong Khuat Thuy",
      "photoUrl": "",
      "userId": "16807426118474640783"
     },
     "user_tz": -420
    },
    "id": "OXDFTYVpsnAB",
    "outputId": "d2c4ca2a-3962-47ca-a6ab-a8e5e8506123"
   },
   "outputs": [],
   "source": [
    "x_now = [[0.25]]\n",
    "y_now = model.predict(x_now)\n",
    "y_now"
   ]
  }
 ],
 "metadata": {
  "colab": {
   "name": "Chapter6_demo_regression_iris.ipynb",
   "provenance": []
  },
  "kernelspec": {
   "display_name": "Python 3.9.2 64-bit",
   "language": "python",
   "name": "python3"
  },
  "language_info": {
   "codemirror_mode": {
    "name": "ipython",
    "version": 3
   },
   "file_extension": ".py",
   "mimetype": "text/x-python",
   "name": "python",
   "nbconvert_exporter": "python",
   "pygments_lexer": "ipython3",
   "version": "3.9.2"
  },
  "vscode": {
   "interpreter": {
    "hash": "0917cd8301acd1531e6697be57246730a0c8dcaae7b959dd47d6e5894c4c2091"
   }
  }
 },
 "nbformat": 4,
 "nbformat_minor": 1
}
