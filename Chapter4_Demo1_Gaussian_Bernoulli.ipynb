{
 "cells": [
  {
   "cell_type": "markdown",
   "metadata": {},
   "source": [
    "# Chapter 4: Demo"
   ]
  },
  {
   "cell_type": "code",
   "execution_count": null,
   "metadata": {
    "colab": {},
    "colab_type": "code",
    "id": "s279kXtAmuPS"
   },
   "outputs": [],
   "source": [
    "### Stolen car: Red, SUV, Domestic => stolen Yes or No???"
   ]
  },
  {
   "cell_type": "code",
   "execution_count": 10,
   "metadata": {
    "colab": {},
    "colab_type": "code",
    "id": "nCgJfjGBmuPX"
   },
   "outputs": [],
   "source": [
    "import numpy as np\n",
    "import pandas as pd"
   ]
  },
  {
   "cell_type": "code",
   "execution_count": 11,
   "metadata": {
    "colab": {},
    "colab_type": "code",
    "id": "X57Nc0GQmuPb"
   },
   "outputs": [],
   "source": [
    "X = np.array([[\"Red\", \"Sports\", \"Domestic\"],\n",
    "              [\"Red\", \"Sports\", \"Domestic\"], \n",
    "              [\"Red\", \"Sports\", \"Domestic\"], \n",
    "              [\"Yellow\", \"Sports\", \"Domestic\"], \n",
    "              [\"Yellow\", \"Sports\", \"Imported\"],\n",
    "              [\"Yellow\", \"SUV\", \"Imported\"], \n",
    "              [\"Yellow\", \"SUV\", \"Imported\"], \n",
    "              [\"Yellow\", \"SUV\", \"Domestic\"],\n",
    "              [\"Red\", \"SUV\", \"Imported\"], \n",
    "              [\"Red\", \"Sports\", \"Imported\"]])\n",
    "Y = np.array([\"Yes\", \"No\", \"Yes\", \"No\", \"Yes\", \"No\", \"Yes\", \"No\", \"No\", \"Yes\"])"
   ]
  },
  {
   "cell_type": "code",
   "execution_count": 12,
   "metadata": {
    "colab": {
     "base_uri": "https://localhost:8080/",
     "height": 359
    },
    "colab_type": "code",
    "executionInfo": {
     "elapsed": 1655,
     "status": "ok",
     "timestamp": 1589064180428,
     "user": {
      "displayName": "Phuong Khuat Thuy",
      "photoUrl": "",
      "userId": "16807426118474640783"
     },
     "user_tz": -420
    },
    "id": "XaT6cIDJmuPd",
    "outputId": "a65e2739-45f2-4906-d74d-1bf86600a983"
   },
   "outputs": [
    {
     "data": {
      "text/html": [
       "<div>\n",
       "<style scoped>\n",
       "    .dataframe tbody tr th:only-of-type {\n",
       "        vertical-align: middle;\n",
       "    }\n",
       "\n",
       "    .dataframe tbody tr th {\n",
       "        vertical-align: top;\n",
       "    }\n",
       "\n",
       "    .dataframe thead th {\n",
       "        text-align: right;\n",
       "    }\n",
       "</style>\n",
       "<table border=\"1\" class=\"dataframe\">\n",
       "  <thead>\n",
       "    <tr style=\"text-align: right;\">\n",
       "      <th></th>\n",
       "      <th>color_Red</th>\n",
       "      <th>color_Yellow</th>\n",
       "      <th>type_SUV</th>\n",
       "      <th>type_Sports</th>\n",
       "      <th>origin_Domestic</th>\n",
       "      <th>origin_Imported</th>\n",
       "    </tr>\n",
       "  </thead>\n",
       "  <tbody>\n",
       "    <tr>\n",
       "      <th>0</th>\n",
       "      <td>1</td>\n",
       "      <td>0</td>\n",
       "      <td>0</td>\n",
       "      <td>1</td>\n",
       "      <td>1</td>\n",
       "      <td>0</td>\n",
       "    </tr>\n",
       "    <tr>\n",
       "      <th>1</th>\n",
       "      <td>1</td>\n",
       "      <td>0</td>\n",
       "      <td>0</td>\n",
       "      <td>1</td>\n",
       "      <td>1</td>\n",
       "      <td>0</td>\n",
       "    </tr>\n",
       "    <tr>\n",
       "      <th>2</th>\n",
       "      <td>1</td>\n",
       "      <td>0</td>\n",
       "      <td>0</td>\n",
       "      <td>1</td>\n",
       "      <td>1</td>\n",
       "      <td>0</td>\n",
       "    </tr>\n",
       "    <tr>\n",
       "      <th>3</th>\n",
       "      <td>0</td>\n",
       "      <td>1</td>\n",
       "      <td>0</td>\n",
       "      <td>1</td>\n",
       "      <td>1</td>\n",
       "      <td>0</td>\n",
       "    </tr>\n",
       "    <tr>\n",
       "      <th>4</th>\n",
       "      <td>0</td>\n",
       "      <td>1</td>\n",
       "      <td>0</td>\n",
       "      <td>1</td>\n",
       "      <td>0</td>\n",
       "      <td>1</td>\n",
       "    </tr>\n",
       "    <tr>\n",
       "      <th>5</th>\n",
       "      <td>0</td>\n",
       "      <td>1</td>\n",
       "      <td>1</td>\n",
       "      <td>0</td>\n",
       "      <td>0</td>\n",
       "      <td>1</td>\n",
       "    </tr>\n",
       "    <tr>\n",
       "      <th>6</th>\n",
       "      <td>0</td>\n",
       "      <td>1</td>\n",
       "      <td>1</td>\n",
       "      <td>0</td>\n",
       "      <td>0</td>\n",
       "      <td>1</td>\n",
       "    </tr>\n",
       "    <tr>\n",
       "      <th>7</th>\n",
       "      <td>0</td>\n",
       "      <td>1</td>\n",
       "      <td>1</td>\n",
       "      <td>0</td>\n",
       "      <td>1</td>\n",
       "      <td>0</td>\n",
       "    </tr>\n",
       "    <tr>\n",
       "      <th>8</th>\n",
       "      <td>1</td>\n",
       "      <td>0</td>\n",
       "      <td>1</td>\n",
       "      <td>0</td>\n",
       "      <td>0</td>\n",
       "      <td>1</td>\n",
       "    </tr>\n",
       "    <tr>\n",
       "      <th>9</th>\n",
       "      <td>1</td>\n",
       "      <td>0</td>\n",
       "      <td>0</td>\n",
       "      <td>1</td>\n",
       "      <td>0</td>\n",
       "      <td>1</td>\n",
       "    </tr>\n",
       "  </tbody>\n",
       "</table>\n",
       "</div>"
      ],
      "text/plain": [
       "   color_Red  color_Yellow  type_SUV  type_Sports  origin_Domestic  \\\n",
       "0          1             0         0            1                1   \n",
       "1          1             0         0            1                1   \n",
       "2          1             0         0            1                1   \n",
       "3          0             1         0            1                1   \n",
       "4          0             1         0            1                0   \n",
       "5          0             1         1            0                0   \n",
       "6          0             1         1            0                0   \n",
       "7          0             1         1            0                1   \n",
       "8          1             0         1            0                0   \n",
       "9          1             0         0            1                0   \n",
       "\n",
       "   origin_Imported  \n",
       "0                0  \n",
       "1                0  \n",
       "2                0  \n",
       "3                0  \n",
       "4                1  \n",
       "5                1  \n",
       "6                1  \n",
       "7                0  \n",
       "8                1  \n",
       "9                1  "
      ]
     },
     "execution_count": 12,
     "metadata": {},
     "output_type": "execute_result"
    }
   ],
   "source": [
    "X = pd.DataFrame(X, columns = ['color', 'type', 'origin'])\n",
    "X_now = pd.get_dummies(X)\n",
    "X_now"
   ]
  },
  {
   "cell_type": "code",
   "execution_count": null,
   "metadata": {
    "colab": {
     "base_uri": "https://localhost:8080/",
     "height": 359
    },
    "colab_type": "code",
    "executionInfo": {
     "elapsed": 1646,
     "status": "ok",
     "timestamp": 1589064180429,
     "user": {
      "displayName": "Phuong Khuat Thuy",
      "photoUrl": "",
      "userId": "16807426118474640783"
     },
     "user_tz": -420
    },
    "id": "a1CrsJUamuPh",
    "outputId": "81e5626a-35b4-4d14-a3f5-85f8973b8fa1"
   },
   "outputs": [],
   "source": [
    "Y = pd.DataFrame(Y, columns = ['stolen'])\n",
    "Y_now = pd.get_dummies(Y, drop_first=True)\n",
    "Y_now"
   ]
  },
  {
   "cell_type": "code",
   "execution_count": 13,
   "metadata": {
    "colab": {
     "base_uri": "https://localhost:8080/",
     "height": 68
    },
    "colab_type": "code",
    "executionInfo": {
     "elapsed": 2084,
     "status": "ok",
     "timestamp": 1589064180898,
     "user": {
      "displayName": "Phuong Khuat Thuy",
      "photoUrl": "",
      "userId": "16807426118474640783"
     },
     "user_tz": -420
    },
    "id": "rWHb_do2muPt",
    "outputId": "fd4c902a-aff1-47fe-ae5f-e0d9d9401130"
   },
   "outputs": [
    {
     "name": "stderr",
     "output_type": "stream",
     "text": [
      "C:\\Users\\Admin\\AppData\\Roaming\\Python\\Python36\\site-packages\\sklearn\\utils\\validation.py:73: DataConversionWarning: A column-vector y was passed when a 1d array was expected. Please change the shape of y to (n_samples, ), for example using ravel().\n",
      "  return f(**kwargs)\n"
     ]
    },
    {
     "data": {
      "text/plain": [
       "BernoulliNB()"
      ]
     },
     "execution_count": 13,
     "metadata": {},
     "output_type": "execute_result"
    }
   ],
   "source": [
    "# Sử dụng BernoulliNB\n",
    "# https://scikit-learn.org/stable/modules/generated/sklearn.naive_bayes.BernoulliNB.html\n",
    "from sklearn.naive_bayes import BernoulliNB\n",
    "clf = BernoulliNB()\n",
    "clf.fit(X_now, Y_now)"
   ]
  },
  {
   "cell_type": "code",
   "execution_count": 14,
   "metadata": {
    "colab": {},
    "colab_type": "code",
    "id": "mUFCtVcPmuPn"
   },
   "outputs": [],
   "source": [
    "X_new = [[1,0,1,0,1,0]] #\"Red\", \"SUV\", \"Domestic\""
   ]
  },
  {
   "cell_type": "code",
   "execution_count": 16,
   "metadata": {
    "colab": {
     "base_uri": "https://localhost:8080/",
     "height": 34
    },
    "colab_type": "code",
    "executionInfo": {
     "elapsed": 2078,
     "status": "ok",
     "timestamp": 1589064180900,
     "user": {
      "displayName": "Phuong Khuat Thuy",
      "photoUrl": "",
      "userId": "16807426118474640783"
     },
     "user_tz": -420
    },
    "id": "d5QxeNkBmuPv",
    "outputId": "692b337c-ec55-477c-bbbe-d3f487af5f8d"
   },
   "outputs": [
    {
     "name": "stdout",
     "output_type": "stream",
     "text": [
      "[0]\n",
      "[[0.8 0.2]]\n"
     ]
    }
   ],
   "source": [
    "#Predict Output \n",
    "predicted= clf.predict(X_new) # Red, SUV, Domestic\n",
    "pro= clf.predict_proba(X_new)\n",
    "print(predicted)\n",
    "print(pro)\n",
    "\n",
    "\n"
   ]
  },
  {
   "cell_type": "code",
   "execution_count": 20,
   "metadata": {
    "colab": {
     "base_uri": "https://localhost:8080/",
     "height": 68
    },
    "colab_type": "code",
    "executionInfo": {
     "elapsed": 2093,
     "status": "ok",
     "timestamp": 1589064180886,
     "user": {
      "displayName": "Phuong Khuat Thuy",
      "photoUrl": "",
      "userId": "16807426118474640783"
     },
     "user_tz": -420
    },
    "id": "r8nIjRiRmuPk",
    "outputId": "bcd1e774-41df-4630-ca43-18de3ba4896d"
   },
   "outputs": [
    {
     "name": "stderr",
     "output_type": "stream",
     "text": [
      "C:\\Users\\Admin\\AppData\\Roaming\\Python\\Python36\\site-packages\\sklearn\\utils\\validation.py:73: DataConversionWarning: A column-vector y was passed when a 1d array was expected. Please change the shape of y to (n_samples, ), for example using ravel().\n",
      "  return f(**kwargs)\n"
     ]
    },
    {
     "data": {
      "text/plain": [
       "GaussianNB()"
      ]
     },
     "execution_count": 20,
     "metadata": {},
     "output_type": "execute_result"
    }
   ],
   "source": [
    "#Create a Gaussian Classifier\n",
    "# https://scikit-learn.org/stable/modules/generated/sklearn.naive_bayes.GaussianNB.html\n",
    "from sklearn.naive_bayes import GaussianNB\n",
    "model = GaussianNB()\n",
    "\n",
    "# Train the model using the training sets \n",
    "model.fit(X_now, Y_now)"
   ]
  },
  {
   "cell_type": "code",
   "execution_count": 22,
   "metadata": {
    "colab": {
     "base_uri": "https://localhost:8080/",
     "height": 34
    },
    "colab_type": "code",
    "executionInfo": {
     "elapsed": 2091,
     "status": "ok",
     "timestamp": 1589064180896,
     "user": {
      "displayName": "Phuong Khuat Thuy",
      "photoUrl": "",
      "userId": "16807426118474640783"
     },
     "user_tz": -420
    },
    "id": "2EzVHVrxmuPq",
    "outputId": "53c3dbac-d8e0-4c2f-ba9c-553102353624"
   },
   "outputs": [
    {
     "name": "stdout",
     "output_type": "stream",
     "text": [
      "[0]\n",
      "[[0.94920699 0.05079301]]\n"
     ]
    }
   ],
   "source": [
    "#Predict Output \n",
    "predicted= model.predict(X_new) \n",
    "pro= model.predict_proba(X_new)\n",
    "print(predicted)\n",
    "print(pro)"
   ]
  },
  {
   "cell_type": "code",
   "execution_count": null,
   "metadata": {},
   "outputs": [],
   "source": []
  }
 ],
 "metadata": {
  "colab": {
   "collapsed_sections": [],
   "name": "demo_Gaussian_Bernoulli.ipynb",
   "provenance": []
  },
  "kernelspec": {
   "display_name": "Python 3.9.2 64-bit",
   "language": "python",
   "name": "python3"
  },
  "language_info": {
   "codemirror_mode": {
    "name": "ipython",
    "version": 3
   },
   "file_extension": ".py",
   "mimetype": "text/x-python",
   "name": "python",
   "nbconvert_exporter": "python",
   "pygments_lexer": "ipython3",
   "version": "3.9.2"
  },
  "vscode": {
   "interpreter": {
    "hash": "0917cd8301acd1531e6697be57246730a0c8dcaae7b959dd47d6e5894c4c2091"
   }
  }
 },
 "nbformat": 4,
 "nbformat_minor": 1
}
