{
 "cells": [
  {
   "cell_type": "markdown",
   "metadata": {
    "colab_type": "text",
    "id": "Cf1yK9WZ3wdq"
   },
   "source": [
    "# Chapter 5: Demo KNN Regression"
   ]
  },
  {
   "cell_type": "code",
   "execution_count": null,
   "metadata": {
    "colab": {},
    "colab_type": "code",
    "id": "TD0gVBz7mJ63"
   },
   "outputs": [],
   "source": [
    "# from google.colab import drive\n",
    "# drive.mount(\"/content/gdrive\", force_remount=True)"
   ]
  },
  {
   "cell_type": "code",
   "execution_count": null,
   "metadata": {
    "colab": {},
    "colab_type": "code",
    "id": "Ihurp9twmLGd"
   },
   "outputs": [],
   "source": [
    "# %cd '/content/gdrive/My Drive/LDS6_MachineLearning/practice/Chapter5_KNN/'"
   ]
  },
  {
   "cell_type": "code",
   "execution_count": 8,
   "metadata": {
    "colab": {},
    "colab_type": "code",
    "id": "oxs7cUPR3wds"
   },
   "outputs": [],
   "source": [
    "import numpy as np\n",
    "import pandas as pd\n",
    "import matplotlib.pyplot as plt\n",
    "from sklearn.model_selection import train_test_split  "
   ]
  },
  {
   "cell_type": "code",
   "execution_count": 9,
   "metadata": {
    "colab": {},
    "colab_type": "code",
    "id": "hPdWoRhm3wdu",
    "outputId": "d143dd40-a5ac-4be7-f932-e8e6d553f120"
   },
   "outputs": [
    {
     "name": "stdout",
     "output_type": "stream",
     "text": [
      "<class 'pandas.core.frame.DataFrame'>\n",
      "RangeIndex: 150 entries, 0 to 149\n",
      "Data columns (total 5 columns):\n",
      " #   Column       Non-Null Count  Dtype  \n",
      "---  ------       --------------  -----  \n",
      " 0   sepallength  150 non-null    float64\n",
      " 1   sepalwidth   150 non-null    float64\n",
      " 2   petallength  150 non-null    float64\n",
      " 3   petalwidth   150 non-null    float64\n",
      " 4   iris         150 non-null    object \n",
      "dtypes: float64(4), object(1)\n",
      "memory usage: 6.0+ KB\n"
     ]
    }
   ],
   "source": [
    "# import some data to play with\n",
    "iris = pd.read_excel(\"Iris.xls\")\n",
    "iris.info()"
   ]
  },
  {
   "cell_type": "code",
   "execution_count": 10,
   "metadata": {
    "colab": {},
    "colab_type": "code",
    "id": "5cEd6Kkp3wdx",
    "outputId": "38d4c94e-9499-4683-db9a-3894a4ef9286"
   },
   "outputs": [
    {
     "data": {
      "text/html": [
       "<div>\n",
       "<style scoped>\n",
       "    .dataframe tbody tr th:only-of-type {\n",
       "        vertical-align: middle;\n",
       "    }\n",
       "\n",
       "    .dataframe tbody tr th {\n",
       "        vertical-align: top;\n",
       "    }\n",
       "\n",
       "    .dataframe thead th {\n",
       "        text-align: right;\n",
       "    }\n",
       "</style>\n",
       "<table border=\"1\" class=\"dataframe\">\n",
       "  <thead>\n",
       "    <tr style=\"text-align: right;\">\n",
       "      <th></th>\n",
       "      <th>sepallength</th>\n",
       "      <th>sepalwidth</th>\n",
       "      <th>petallength</th>\n",
       "      <th>petalwidth</th>\n",
       "      <th>iris</th>\n",
       "    </tr>\n",
       "  </thead>\n",
       "  <tbody>\n",
       "    <tr>\n",
       "      <th>0</th>\n",
       "      <td>5.1</td>\n",
       "      <td>3.5</td>\n",
       "      <td>1.4</td>\n",
       "      <td>0.2</td>\n",
       "      <td>Iris-setosa</td>\n",
       "    </tr>\n",
       "    <tr>\n",
       "      <th>1</th>\n",
       "      <td>4.9</td>\n",
       "      <td>3.0</td>\n",
       "      <td>1.4</td>\n",
       "      <td>0.2</td>\n",
       "      <td>Iris-setosa</td>\n",
       "    </tr>\n",
       "    <tr>\n",
       "      <th>2</th>\n",
       "      <td>4.7</td>\n",
       "      <td>3.2</td>\n",
       "      <td>1.3</td>\n",
       "      <td>0.2</td>\n",
       "      <td>Iris-setosa</td>\n",
       "    </tr>\n",
       "    <tr>\n",
       "      <th>3</th>\n",
       "      <td>4.6</td>\n",
       "      <td>3.1</td>\n",
       "      <td>1.5</td>\n",
       "      <td>0.2</td>\n",
       "      <td>Iris-setosa</td>\n",
       "    </tr>\n",
       "    <tr>\n",
       "      <th>4</th>\n",
       "      <td>5.0</td>\n",
       "      <td>3.6</td>\n",
       "      <td>1.4</td>\n",
       "      <td>0.2</td>\n",
       "      <td>Iris-setosa</td>\n",
       "    </tr>\n",
       "  </tbody>\n",
       "</table>\n",
       "</div>"
      ],
      "text/plain": [
       "   sepallength  sepalwidth  petallength  petalwidth         iris\n",
       "0          5.1         3.5          1.4         0.2  Iris-setosa\n",
       "1          4.9         3.0          1.4         0.2  Iris-setosa\n",
       "2          4.7         3.2          1.3         0.2  Iris-setosa\n",
       "3          4.6         3.1          1.5         0.2  Iris-setosa\n",
       "4          5.0         3.6          1.4         0.2  Iris-setosa"
      ]
     },
     "execution_count": 10,
     "metadata": {},
     "output_type": "execute_result"
    }
   ],
   "source": [
    "iris.head()"
   ]
  },
  {
   "cell_type": "code",
   "execution_count": 11,
   "metadata": {
    "colab": {},
    "colab_type": "code",
    "id": "CSOaklF83wdy"
   },
   "outputs": [],
   "source": [
    "# Cho pentalwidth dự đoán pentallength\n",
    "petalwidth = iris[['petalwidth']] # x hay input\n",
    "pentallength = iris['petallength'] # y hay output"
   ]
  },
  {
   "cell_type": "code",
   "execution_count": 12,
   "metadata": {
    "colab": {},
    "colab_type": "code",
    "id": "u8i1WU4L3wd0",
    "outputId": "c7d3c524-0f11-4d7d-bf11-fd9a143ca17f"
   },
   "outputs": [
    {
     "data": {
      "text/plain": [
       "0    1.4\n",
       "1    1.4\n",
       "2    1.3\n",
       "3    1.5\n",
       "4    1.4\n",
       "Name: petallength, dtype: float64"
      ]
     },
     "execution_count": 12,
     "metadata": {},
     "output_type": "execute_result"
    }
   ],
   "source": [
    "pentallength[:5]"
   ]
  },
  {
   "cell_type": "code",
   "execution_count": 13,
   "metadata": {
    "colab": {},
    "colab_type": "code",
    "id": "lSak8TSl3wd2",
    "outputId": "aa0b34da-bed6-4b57-e65f-ff13010e1f9f"
   },
   "outputs": [
    {
     "data": {
      "image/png": "[encoded data removed]",
      "text/plain": [
       "<Figure size 432x288 with 1 Axes>"
      ]
     },
     "metadata": {
      "needs_background": "light"
     },
     "output_type": "display_data"
    }
   ],
   "source": [
    "plt.scatter(petalwidth, pentallength)\n",
    "plt.show()"
   ]
  },
  {
   "cell_type": "code",
   "execution_count": 16,
   "metadata": {
    "colab": {},
    "colab_type": "code",
    "id": "6NIrKdZd3wd4"
   },
   "outputs": [],
   "source": [
    "from sklearn.model_selection import train_test_split  \n",
    "X_train, X_test, y_train, y_test = train_test_split(petalwidth, \n",
    "                                                    pentallength, \n",
    "                                                    test_size=0.20, \n",
    "                                                    random_state = 42)"
   ]
  },
  {
   "cell_type": "markdown",
   "metadata": {
    "colab_type": "text",
    "id": "z0MSKSvw32es"
   },
   "source": []
  },
  {
   "cell_type": "code",
   "execution_count": 17,
   "metadata": {
    "colab": {},
    "colab_type": "code",
    "id": "oDdR0RKe3wd5"
   },
   "outputs": [],
   "source": [
    "from sklearn.neighbors import KNeighborsRegressor"
   ]
  },
  {
   "cell_type": "code",
   "execution_count": 19,
   "metadata": {
    "colab": {},
    "colab_type": "code",
    "id": "FPEfc6GS3wd7",
    "outputId": "9d3aa8f2-f284-4861-8caf-51e768d85a15"
   },
   "outputs": [
    {
     "name": "stdout",
     "output_type": "stream",
     "text": [
      "The R^2 score is  92.61607309341787  for K-Value: 2\n",
      "The R^2 score is  94.03093022335983  for K-Value: 3\n",
      "The R^2 score is  94.27262556574509  for K-Value: 4\n",
      "The R^2 score is  94.6437034902446  for K-Value: 5\n",
      "The R^2 score is  94.99968922866555  for K-Value: 6\n",
      "The R^2 score is  94.84781487391967  for K-Value: 7\n",
      "The R^2 score is  94.8173935890699  for K-Value: 8\n",
      "The R^2 score is  94.85852370431897  for K-Value: 9\n",
      "\n",
      "The optimal number of neighbors is: 6 with R^2 score is: 94.99968922866555\n"
     ]
    }
   ],
   "source": [
    "# neu nhu co mot so k co score = nhau => tim mse cua cac k bang nhau =>\n",
    "# mse << => chon k\n",
    "list_k = []\n",
    "list_r_score = []\n",
    "for K_value in range(2,int(y_train.shape[0]**0.5)):        \n",
    "    list_k.append(K_value)\n",
    "    neigh = KNeighborsRegressor(n_neighbors = K_value)\n",
    "    neigh.fit(X_train, y_train) \n",
    "    score = neigh.score(X_test,y_test)*100\n",
    "    list_r_score.append(score)\n",
    "    print(\"The R^2 score is \", score, \" for K-Value:\",K_value)    \n",
    "vi_tri = list_r_score.index(max(list_r_score))\n",
    "k = list_k[vi_tri]\n",
    "print(\"\\nThe optimal number of neighbors is:\", k, \"with R^2 score is:\", \n",
    "      list_r_score[vi_tri])"
   ]
  },
  {
   "cell_type": "code",
   "execution_count": 20,
   "metadata": {
    "colab": {},
    "colab_type": "code",
    "id": "xPma6FKj3wd9",
    "outputId": "35245789-4d15-4e42-91d2-af590221e44d"
   },
   "outputs": [
    {
     "data": {
      "image/png": "[encoded data removed]",
      "text/plain": [
       "<Figure size 432x288 with 1 Axes>"
      ]
     },
     "metadata": {
      "needs_background": "light"
     },
     "output_type": "display_data"
    }
   ],
   "source": [
    "plt.plot(list_k, list_r_score)\n",
    "plt.xlabel('Number of Neighbors K')\n",
    "plt.ylabel('R^2 score')\n",
    "plt.show()"
   ]
  },
  {
   "cell_type": "code",
   "execution_count": 21,
   "metadata": {
    "colab": {},
    "colab_type": "code",
    "id": "2ywA8wLe3wd-",
    "outputId": "d46ead27-9363-457a-c589-f7ba33cdeaee"
   },
   "outputs": [
    {
     "data": {
      "text/plain": [
       "KNeighborsRegressor(n_neighbors=6)"
      ]
     },
     "execution_count": 21,
     "metadata": {},
     "output_type": "execute_result"
    }
   ],
   "source": [
    "# seleck k => model\n",
    "knn = KNeighborsRegressor(n_neighbors=6)\n",
    "knn.fit(X_train, y_train)"
   ]
  },
  {
   "cell_type": "code",
   "execution_count": 24,
   "metadata": {
    "colab": {},
    "colab_type": "code",
    "id": "R9PqOW9H3weA",
    "outputId": "dadcfdaa-c061-487f-e605-3d8d07321ccd"
   },
   "outputs": [
    {
     "data": {
      "text/plain": [
       "array([3.9       , 1.36666667, 5.71666667, 4.63333333, 4.6       ,\n",
       "       1.6       , 4.16666667, 5.71666667, 4.63333333, 3.9       ,\n",
       "       5.53333333, 1.4       , 1.38333333, 1.4       , 1.36666667,\n",
       "       4.85      , 5.85      , 3.91666667, 4.16666667, 5.85      ,\n",
       "       1.38333333, 5.36666667, 1.6       , 5.66666667, 5.53333333,\n",
       "       5.71666667, 5.36666667, 5.71666667, 1.36666667, 1.38333333])"
      ]
     },
     "execution_count": 24,
     "metadata": {},
     "output_type": "execute_result"
    }
   ],
   "source": [
    "y_pred = knn.predict(X_test)\n",
    "y_pred"
   ]
  },
  {
   "cell_type": "code",
   "execution_count": 25,
   "metadata": {
    "colab": {},
    "colab_type": "code",
    "id": "tr2RtZ3w3weC",
    "outputId": "a2c2c300-8e72-41b6-a6ca-16456d2d4c3b"
   },
   "outputs": [
    {
     "name": "stdout",
     "output_type": "stream",
     "text": [
      "The Training R^2 score is:  0.9581011061128362\n",
      "The Testing R^2 score is:  0.9499968922866554\n"
     ]
    }
   ],
   "source": [
    "print(\"The Training R^2 score is: \", knn.score(X_train,y_train))\n",
    "print(\"The Testing R^2 score is: \", knn.score(X_test,y_test))"
   ]
  },
  {
   "cell_type": "code",
   "execution_count": 26,
   "metadata": {
    "colab": {},
    "colab_type": "code",
    "id": "kcC8Dtgn3weD",
    "outputId": "96f65849-ef4e-47b3-e772-f74e2cf3751b"
   },
   "outputs": [
    {
     "name": "stdout",
     "output_type": "stream",
     "text": [
      "Mean Squared Error: 0.16387962962962974\n"
     ]
    }
   ],
   "source": [
    "from sklearn import metrics  \n",
    "print('Mean Squared Error:', metrics.mean_squared_error(y_test, y_pred))    "
   ]
  },
  {
   "cell_type": "code",
   "execution_count": null,
   "metadata": {
    "colab": {},
    "colab_type": "code",
    "id": "ZFq9Uy4I3weF",
    "outputId": "5fb205b4-c181-4dcc-a3df-80a51281d4fc"
   },
   "outputs": [],
   "source": [
    "df = pd.DataFrame({'Actual': pd.DataFrame(y_test.values)[0].values, \n",
    "                   'Prediction': pd.DataFrame(y_pred)[0].values})  \n",
    "df.head()"
   ]
  },
  {
   "cell_type": "code",
   "execution_count": 28,
   "metadata": {
    "colab": {},
    "colab_type": "code",
    "id": "DfGlO1ab3weH",
    "outputId": "94576e5c-991c-4fc6-fb5f-a5f80a4a825d"
   },
   "outputs": [
    {
     "data": {
      "text/plain": [
       "array([1.61666667])"
      ]
     },
     "execution_count": 28,
     "metadata": {},
     "output_type": "execute_result"
    }
   ],
   "source": [
    "x_now = [[0.5]]\n",
    "y_now = knn.predict(x_now)\n",
    "y_now"
   ]
  },
  {
   "cell_type": "code",
   "execution_count": null,
   "metadata": {},
   "outputs": [],
   "source": []
  }
 ],
 "metadata": {
  "colab": {
   "name": "Chapter5_demo_regression_iris.ipynb",
   "provenance": []
  },
  "kernelspec": {
   "display_name": "Python 3.9.2 64-bit",
   "language": "python",
   "name": "python3"
  },
  "language_info": {
   "codemirror_mode": {
    "name": "ipython",
    "version": 3
   },
   "file_extension": ".py",
   "mimetype": "text/x-python",
   "name": "python",
   "nbconvert_exporter": "python",
   "pygments_lexer": "ipython3",
   "version": "3.9.2"
  },
  "vscode": {
   "interpreter": {
    "hash": "0917cd8301acd1531e6697be57246730a0c8dcaae7b959dd47d6e5894c4c2091"
   }
  }
 },
 "nbformat": 4,
 "nbformat_minor": 1
}
